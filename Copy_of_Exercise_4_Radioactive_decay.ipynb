{
  "cells": [
    {
      "cell_type": "markdown",
      "metadata": {
        "id": "view-in-github",
        "colab_type": "text"
      },
      "source": [
        "<a href=\"https://colab.research.google.com/github/ArmaniRoberts/Lecture-notes/blob/main/Copy_of_Exercise_4_Radioactive_decay.ipynb\" target=\"_parent\"><img src=\"https://colab.research.google.com/assets/colab-badge.svg\" alt=\"Open In Colab\"/></a>"
      ]
    },
    {
      "cell_type": "markdown",
      "metadata": {
        "id": "yzirtvF99xFv"
      },
      "source": [
        "__Armani Roberts-Farquharson__\n",
        "<br>\n",
        "Date: Jan. 19, 2021\n",
        "<br>\n",
        "PHYS 2030 W22"
      ]
    },
    {
      "cell_type": "markdown",
      "metadata": {
        "id": "XyOJjNjP9xFw"
      },
      "source": [
        "# <center><font color=#46769B>Exercise 4: Radioactive decay</font></center>\n",
        "\n",
        "## <font color=#46769B>Introduction:</font>\n",
        "\n",
        "Our goals for this notebook are:\n",
        "- Make a simulation for \n",
        "\n",
        "Required reading:\n",
        "- *Lesson 3: Sampling from arbitrary distributions*"
      ]
    },
    {
      "cell_type": "markdown",
      "metadata": {
        "id": "5ORPtkos9xFw"
      },
      "source": [
        "# <font color=#46769B>Exercise</font>\n",
        "\n",
        "## <font color=#46769B>Part (a)</font>\n",
        "\n",
        "Consider a radioactive isotope $A$, at $t=0$. We want to know the time $t$ for one atom to decay. \n",
        "Since radioactive decay is a random process, there is no way to know in advance $t$ for any one atom. \n",
        "We will treat $t$ as a variable that we will randomly sample from a PDF $P(t)$.\n",
        "\n",
        "The law of radioactive decay tells us that the *probability* of $A$ surviving until time $t$ is $e^{-t/\\tau_A}$, where $\\tau_A$ is the lifetime for its decay.\n",
        "Conversely, the probability for $A$ to decay *before* time $t$ is $(1-e^{-t/\\tau_A})$. The latter is nothing more than the CDF:\n",
        "$$ C(t) = \\left\\{ \\begin{array}{cc} 1 - e^{-t/\\tau_A} & {\\rm for} \\; t \\ge 0 \\\\\n",
        "0 & {\\rm otherwise} \\end{array} \\right.$$\n",
        "Since $P(t) = dC/dt$, we now have the PDF:\n",
        "$$ P(t) = \\left\\{ \\begin{array}{cc} \\frac{1}{\\tau_A} e^{-t/\\tau_A} & {\\rm for} \\; t \\ge 0 \\\\\n",
        "0 & {\\rm otherwise} \\end{array} \\right. \\, ,$$\n",
        "which you can verify has the correct normalization.\n",
        "\n",
        "Setting $\\tau_A = 10$ (e.g., 10 hours), complete the following:\n",
        "- Write a code `sample_t_A(num)` that will draw `num` random samples for $t$ from $P(t)$ defined above and return a `numpy.array` of length `num` with your list of times $t$.\n",
        "- Determine the half-life $t_{1/2}$ from the 50\\% quantile from your sample.\n",
        "- Determine the time it takes for 99.9\\% of $A$ to decay away by determining the 99.9\\% quantile for your sample.\n",
        "\n",
        "For the last two parts, be sure that $N$ is large enough so that you find consistent results when you perform multiple simulations."
      ]
    },
    {
      "cell_type": "code",
      "source": [
        "import numpy as np\n",
        "import matplotlib.pyplot as plt\n",
        "\n",
        "num = 100000\n",
        "tau_A = 10\n",
        "samples=[]\n",
        "def sample_t_A(num):\n",
        "  r = np.random.rand()\n",
        "  t_samples = -(tau_A) * np.log(1-r)\n",
        "\n",
        "  return t_samples\n",
        "\n",
        "for k in range(num):\n",
        "  samples.append(sample_t_A(num))\n",
        "\n",
        "print('The half time of the sample is', np.quantile(samples,0.5), \"hours\")\n",
        "print('It takes', np.quantile(samples,0.999), \"hours for 99.9% of the sample to decay\")\n",
        "\n",
        "\n"
      ],
      "metadata": {
        "colab": {
          "base_uri": "https://localhost:8080/"
        },
        "id": "AqgH53u6Jj5r",
        "outputId": "16005e73-d215-417c-b80b-203b858ad3e4"
      },
      "execution_count": 175,
      "outputs": [
        {
          "output_type": "stream",
          "name": "stdout",
          "text": [
            "The half time of the sample is 6.9166708663694765 hours\n",
            "It takes 68.41529031053915 hours for 99.9% of the sample to decay\n"
          ]
        }
      ]
    },
    {
      "cell_type": "markdown",
      "metadata": {
        "id": "dK0oxmyj9xFx"
      },
      "source": [
        "## <font color=#46769B>Part (b)</font>\n",
        "\n",
        "Consider a more complicated chain of decays:\n",
        "\n",
        "<div>\n",
        "<img src=\"https://github.com/PHYS-2030-Computational-Methods/Lecture-notes/raw/main/ABC_decay.png\" width=\"200\"/>\n",
        "</div>\n",
        "\n",
        "Isotope $A$, with lifetime $\\tau_A = 10$, decays into isotope $B$ 83\\% of the time and into isotope $C$ 17\\% of the time.\n",
        "Isotopes $B$ and $C$ are themselves radioactive, decaying with lifetimes $\\tau_B = 2$ and $\\tau_C=30$, respectively, into stable isotopes.\n",
        "\n",
        "Starting with isotope $A$ at $t=0$, generate $N$ random samples for the *total* time to decay to a stable isotope. Using `numpy.quantile`, determine the following:\n",
        "- Determine the total half-life $t_{1/2}$ for all radioactive isotopes to decay away.\n",
        "- Determine the time it takes for 99.9\\% of all radioactive isotopes to decay away.\n",
        "\n",
        "Choose $N$ large enough so that your results are consistent for multiple simulations.\n",
        "\n",
        "### <font color=#46769B>Hint:</font>\n",
        "\n",
        "The total time is\n",
        "$$ t_{\\rm tot} = \\left\\{ \\begin{array}{cc} t_A + t_B & {\\rm 83\\% \\; of\\; the\\; time} \\\\ \n",
        "t_A + t_C & {\\rm 17\\% \\; of\\; the\\; time} \\end{array} \\right. \\, ,$$\n",
        "where $t_A$ is the time for $A$ to decay from part (a), and $t_B$ and $t_C$ are the times for $B$ and $C$ to decay.\n",
        "So, the logic is as follows:\n",
        "- Randomly sample $t_A$ as in part (a).\n",
        "- Randomly sample from a discrete choice: does $A \\to B$ or $B \\to C$?\n",
        "- Randomly sample *either* $t_B$ or $t_C$ (depending on which decay occurs), as in part (a) but using the appropriate lifetime $\\tau_B$ or $\\tau_C$.\n",
        "- Compute $t_{\\rm tot} = t_A + t_B$ or $t_A + t_C$ (depending on which decay occurs).\n",
        "\n",
        "That is __one__ sample. Repeat $N$ times do generate $N$ samples.\n",
        "\n"
      ]
    },
    {
      "cell_type": "code",
      "execution_count": 173,
      "metadata": {
        "id": "sg9gX_cz9xFy",
        "colab": {
          "base_uri": "https://localhost:8080/"
        },
        "outputId": "4348d7f8-f99f-4fa0-e5f4-71c77c6d528a"
      },
      "outputs": [
        {
          "output_type": "stream",
          "name": "stdout",
          "text": [
            "The half time of the sample is 8.425553239172004 hours\n",
            "It takes 244.9670086029648 hours for 99.9% of the sample to decay\n"
          ]
        }
      ],
      "source": [
        "# Your code here\n",
        "import numpy as np\n",
        "import matplotlib.pyplot as plt\n",
        "\n",
        "num = 1000\n",
        "tau_A = 10\n",
        "tau_B=2\n",
        "tau_C=30\n",
        "tot=[]\n",
        "\n",
        "\n",
        "\n",
        "for k in range(num):\n",
        "#Sample decay of A\n",
        "  r = np.random.rand()\n",
        "  tA_samples = -(tau_A) * np.log(1-r)\n",
        "  tA.append(tA_samples)\n",
        "  \n",
        "#Sample discrete choice, add A decay times to random B or C decay times depending on which decay occurs\n",
        "    \n",
        "  if r < prob[0]:\n",
        "      tB_samples = (-(tau_B) * np.log(1-r))+tA_samples\n",
        "      tot.append(tB_samples)\n",
        "  else:\n",
        "      tC_samples = (-(tau_C) * np.log(1-r))+tA_samples\n",
        "      tot.append(tC_samples)\n",
        "\n",
        "#Answer\n",
        "print('The half time of the sample is', np.quantile(tot,0.5), \"hours\")\n",
        "print('It takes', np.quantile(tot,0.999), \"hours for 99.9% of the sample to decay\")"
      ]
    }
  ],
  "metadata": {
    "kernelspec": {
      "display_name": "Python 3",
      "language": "python",
      "name": "python3"
    },
    "language_info": {
      "codemirror_mode": {
        "name": "ipython",
        "version": 3
      },
      "file_extension": ".py",
      "mimetype": "text/x-python",
      "name": "python",
      "nbconvert_exporter": "python",
      "pygments_lexer": "ipython3",
      "version": "3.7.6"
    },
    "colab": {
      "name": "Copy of Exercise 4 - Radioactive decay.ipynb",
      "provenance": [],
      "include_colab_link": true
    }
  },
  "nbformat": 4,
  "nbformat_minor": 0
}